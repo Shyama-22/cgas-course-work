{
 "cells": [
  {
   "cell_type": "markdown",
   "metadata": {},
   "source": [
    "Creating Reviewer-Recipe-Rating matrix :"
   ]
  },
  {
   "cell_type": "code",
   "execution_count": 61,
   "metadata": {},
   "outputs": [],
   "source": [
    "import pandas as pd\n",
    "from sklearn.metrics.pairwise import cosine_similarity"
   ]
  },
  {
   "cell_type": "code",
   "execution_count": 62,
   "metadata": {},
   "outputs": [],
   "source": [
    "final_processed_dataset=pd.read_csv(r\"Final_Processed_Dataset.csv\")\n",
    "\n",
    "reviewer_recipe_rating_matrix = final_processed_dataset.pivot_table(index='ReviewerName', columns='Name', values='Rating')"
   ]
  },
  {
   "cell_type": "markdown",
   "metadata": {},
   "source": [
    "Normalising rating of each reviewer's rating to penalise ratings of those who ovverrate/underrate irratically:"
   ]
  },
  {
   "cell_type": "code",
   "execution_count": 63,
   "metadata": {},
   "outputs": [],
   "source": [
    "def normalise_rating(user_ratings):\n",
    "    return user_ratings/user_ratings.sum()*user_ratings.count()"
   ]
  },
  {
   "cell_type": "code",
   "execution_count": 64,
   "metadata": {},
   "outputs": [],
   "source": [
    "reviewer_recipe_rating_matrix=reviewer_recipe_rating_matrix.apply(normalise_rating,axis=1)"
   ]
  },
  {
   "cell_type": "markdown",
   "metadata": {},
   "source": [
    "Calculating cosine similarity matrix :"
   ]
  },
  {
   "cell_type": "code",
   "execution_count": 65,
   "metadata": {},
   "outputs": [],
   "source": [
    "reviewer_recipe_rating_relation_matrix=reviewer_recipe_rating_matrix.fillna(0)\n",
    "\n",
    "from scipy.sparse import csr_matrix\n",
    "\n",
    "reviewer_recipe_rating_relation_matrix=csr_matrix(reviewer_recipe_rating_relation_matrix.values)\n",
    "cosine_similarity_matrix=cosine_similarity(reviewer_recipe_rating_relation_matrix)\n",
    "cosine_similarity_matrix = pd.DataFrame(cosine_similarity_matrix, index=reviewer_recipe_rating_matrix.index, columns=reviewer_recipe_rating_matrix.index)"
   ]
  },
  {
   "cell_type": "markdown",
   "metadata": {},
   "source": [
    "Predicting Ratings for all recipes where rating is nan for a each user one by one :"
   ]
  },
  {
   "cell_type": "code",
   "execution_count": 66,
   "metadata": {},
   "outputs": [],
   "source": [
    "# user=input(\"Tell your ReviewerName : \")\n",
    "user=\"Bergy\"\n",
    "\n",
    "user_index=cosine_similarity_matrix.index.get_loc(user)\n",
    "user_similarity=cosine_similarity_matrix[user]\n",
    "user_similarity.drop(user,inplace=True)\n",
    "# user_similarity=user_similarity/user_similarity.sum()  ---Wrong. weights.sum() should not include where nan values\n",
    "user_similarity=user_similarity.reset_index()\n",
    "reviewer_recipe_rating_matrix_temp=reviewer_recipe_rating_matrix.reset_index()"
   ]
  },
  {
   "cell_type": "markdown",
   "metadata": {},
   "source": [
    "Removing already rated/eaten dishes from possible recommendations :"
   ]
  },
  {
   "cell_type": "code",
   "execution_count": 67,
   "metadata": {},
   "outputs": [],
   "source": [
    "user_data=reviewer_recipe_rating_matrix_temp[reviewer_recipe_rating_matrix_temp[\"ReviewerName\"]==user]\n",
    "user_data=user_data.drop(\"ReviewerName\",axis=1)\n",
    "already_rated = user_data.loc[:, user_data.notna().any()]\n",
    "reviewer_recipe_rating_matrix_temp.drop(columns=already_rated.columns.tolist(),inplace=True)"
   ]
  },
  {
   "cell_type": "markdown",
   "metadata": {},
   "source": [
    "Applying appropropriate weights to ratings by other users as per similarity :"
   ]
  },
  {
   "cell_type": "code",
   "execution_count": 68,
   "metadata": {},
   "outputs": [],
   "source": [
    "def apply_similarity_weights(row):\n",
    "    return row*row.loc[user]"
   ]
  },
  {
   "cell_type": "code",
   "execution_count": 69,
   "metadata": {},
   "outputs": [],
   "source": [
    "merged_data=pd.merge(user_similarity,reviewer_recipe_rating_matrix_temp,on=\"ReviewerName\")\n",
    "merged_data.drop(\"ReviewerName\",axis=1,inplace=True)\n",
    "merged_data=merged_data.apply(apply_similarity_weights,axis=1)"
   ]
  },
  {
   "cell_type": "markdown",
   "metadata": {},
   "source": [
    "Normalising the weights :"
   ]
  },
  {
   "cell_type": "code",
   "execution_count": 70,
   "metadata": {},
   "outputs": [],
   "source": [
    "def weighted_ratings(column):\n",
    "    return column/column.count()"
   ]
  },
  {
   "cell_type": "code",
   "execution_count": 71,
   "metadata": {},
   "outputs": [],
   "source": [
    "merged_data=merged_data.apply(weighted_ratings,axis=0)\n",
    "merged_data.drop(user,axis=1,inplace=True)"
   ]
  },
  {
   "cell_type": "markdown",
   "metadata": {},
   "source": [
    "Final Recommendations :"
   ]
  },
  {
   "cell_type": "code",
   "execution_count": 72,
   "metadata": {},
   "outputs": [
    {
     "name": "stdout",
     "output_type": "stream",
     "text": [
      "0    B\n",
      "1    C\n",
      "2    D\n",
      "Name: index, dtype: object\n"
     ]
    }
   ],
   "source": [
    "top_20_recommend=merged_data.sum(axis=0).sort_values(ascending=False).iloc[0:20]\n",
    "print(top_20_recommend.reset_index()[\"index\"])"
   ]
  },
  {
   "cell_type": "code",
   "execution_count": 78,
   "metadata": {},
   "outputs": [
    {
     "name": "stdout",
     "output_type": "stream",
     "text": [
      "\n",
      "Specially_Made_Dataset_to_demonstrate_collaborative_accuracy1 : If we input user=3 (yes numerical) and this file name then->\n",
      "\n",
      "Will predict 1st -> C and then 2nd -> D.\n",
      "\n",
      "Because 3 has similar rating pattern as users 1,2. They gave higher rating to food C rather than D. \n",
      "\n",
      "Exact opposite can be said for users 4,5. Hence D did not prevail over C even though they gave 5 to it. \n",
      "\n",
      "\n",
      "\n",
      "Specially_Made_Dataset_to_demonstrate_collaborative_accuracy2 : If we input user=3 and this file name then ->\n",
      "\n",
      "Will predict 1st -> B and then 2nd -> C and 3rd -> D.\n",
      "\n",
      "Beacuse 3 has similar rating pattern as users 1,2. They gave higher rating to food B rather than C rather than D.\n",
      "\n",
      "Exact opposite can be said for users 4,5. Hence D did not prevail over C, C did not prevail over B even though 4,5 gave higher rating to it.\n",
      "\n",
      "\n"
     ]
    }
   ],
   "source": [
    "print('''\n",
    "Specially_Made_Dataset_to_demonstrate_collaborative_accuracy1 : If we input user=3 (yes numerical) and this file name then->\\n\n",
    "Will predict 1st -> C and then 2nd -> D.\\n\n",
    "Because 3 has similar rating pattern as users 1,2. They gave higher rating to food C rather than D. \\n\n",
    "Exact opposite can be said for users 4,5. Hence D did not prevail over C even though they gave 5 to it. \\n\n",
    "\\n\n",
    "Specially_Made_Dataset_to_demonstrate_collaborative_accuracy2 : If we input user=3 and this file name then ->\\n\n",
    "Will predict 1st -> B and then 2nd -> C and 3rd -> D.\\n\n",
    "Beacuse 3 has similar rating pattern as users 1,2. They gave higher rating to food B rather than C rather than D.\\n\n",
    "Exact opposite can be said for users 4,5. Hence D did not prevail over C, C did not prevail over B even though 4,5 gave higher rating to it.\\n\n",
    "''')"
   ]
  }
 ],
 "metadata": {
  "kernelspec": {
   "display_name": "Python 3",
   "language": "python",
   "name": "python3"
  },
  "language_info": {
   "codemirror_mode": {
    "name": "ipython",
    "version": 3
   },
   "file_extension": ".py",
   "mimetype": "text/x-python",
   "name": "python",
   "nbconvert_exporter": "python",
   "pygments_lexer": "ipython3",
   "version": "3.11.4"
  }
 },
 "nbformat": 4,
 "nbformat_minor": 2
}
