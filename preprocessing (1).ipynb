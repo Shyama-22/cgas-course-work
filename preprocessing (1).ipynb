{
  "nbformat": 4,
  "nbformat_minor": 0,
  "metadata": {
    "colab": {
      "provenance": []
    },
    "kernelspec": {
      "name": "python3",
      "display_name": "Python 3"
    },
    "language_info": {
      "name": "python"
    }
  },
  "cells": [
    {
      "cell_type": "code",
      "execution_count": 26,
      "metadata": {
        "id": "GY6oAiYjlty_",
        "colab": {
          "base_uri": "https://localhost:8080/"
        },
        "outputId": "f4d5633c-0d6e-4103-8d43-09ef318e5bf6"
      },
      "outputs": [
        {
          "output_type": "stream",
          "name": "stderr",
          "text": [
            "<ipython-input-26-10860cbd468d>:3: DtypeWarning: Columns (0,2,14,15,16,17,18,19,20,21,22,23,24,25) have mixed types. Specify dtype option on import or set low_memory=False.\n",
            "  data=pd.read_csv(r\"recipes.csv\")\n"
          ]
        }
      ],
      "source": [
        "import pandas as pd\n",
        "\n",
        "data=pd.read_csv(r\"recipes.csv\")\n",
        "\n",
        "#Filtering columns based on requirement :-\n",
        "cols_filtered_data=data[[\"RecipeId\", \"Name\", \"AuthorId\", \"AuthorName\", \"CookTime\", \"PrepTime\",\n",
        "        \"DatePublished\", \"RecipeCategory\", \"AggregatedRating\", \"ReviewCount\", \"RecipeIngredientParts\",\n",
        "        \"Calories\", \"FatContent\", \"SaturatedFatContent\", \"CholesterolContent\", \"SodiumContent\",\n",
        "        \"CarbohydrateContent\", \"FiberContent\", \"SugarContent\", \"ProteinContent\", \"RecipeServings\"]]"
      ]
    },
    {
      "cell_type": "code",
      "source": [
        "#removing trash rows\n",
        "cols_filtered_data=cols_filtered_data.drop(index=range(1438, 1488))"
      ],
      "metadata": {
        "id": "mIuql7JTl-tL"
      },
      "execution_count": 27,
      "outputs": []
    },
    {
      "cell_type": "code",
      "source": [
        "\n",
        "\n",
        "\n",
        "cols_filtered_data[\"ReviewCount\"] = pd.to_numeric(cols_filtered_data[\"ReviewCount\"], errors=\"coerce\")\n",
        "\n",
        "\n",
        "cols_filtered_data = cols_filtered_data.dropna(subset=[\"ReviewCount\"])\n",
        "\n",
        "cols_filtered_data = cols_filtered_data[cols_filtered_data[\"ReviewCount\"] > 3]\n",
        "\n"
      ],
      "metadata": {
        "id": "fdg4C7F7nE3S"
      },
      "execution_count": 29,
      "outputs": []
    },
    {
      "cell_type": "code",
      "source": [
        "import pandas as pd\n",
        "\n",
        "# Replace non-numeric AggregatedRating with a default value (e.g., 0)\n",
        "cols_filtered_data[\"AggregatedRating\"] = pd.to_numeric(\n",
        "    cols_filtered_data[\"AggregatedRating\"], errors=\"coerce\"\n",
        ").fillna(0)\n",
        "\n",
        "# Choosing mixed rating dishes\n",
        "rating_above_45 = cols_filtered_data[cols_filtered_data[\"AggregatedRating\"] >= 4.5][0:10000]\n",
        "rating_below_4 = cols_filtered_data[cols_filtered_data[\"AggregatedRating\"] < 4.5][0:33000]\n",
        "\n",
        "# Concatenating the filtered datasets\n",
        "cols_filtered_data = pd.concat([rating_above_45, rating_below_4], axis=0)\n",
        "\n",
        "\n",
        "print(cols_filtered_data)\n",
        "\n"
      ],
      "metadata": {
        "id": "FQJRfywdnUmr",
        "colab": {
          "base_uri": "https://localhost:8080/"
        },
        "outputId": "99a31720-0843-4d38-b2d1-db82f639808c"
      },
      "execution_count": 31,
      "outputs": [
        {
          "output_type": "stream",
          "name": "stdout",
          "text": [
            "       RecipeId                                               Name  \\\n",
            "0            38                  Low-Fat Berry Blue Frozen Dessert   \n",
            "2            40                                      Best Lemonade   \n",
            "4            42                                       Cabbage Soup   \n",
            "6            44                             Warm Chicken A La King   \n",
            "11           49                           Chicken Breasts Lombardi   \n",
            "...         ...                                                ...   \n",
            "518048   535783                    Cheesesteak Stuffed Onion Rings   \n",
            "518943   536688                         COCO OATMEAL HONEY COOKIES   \n",
            "519094   536843  Sheet Pan Turkey Caprese Meatballs With Rosema...   \n",
            "519181   536930                      Cheesy Buffalo Chicken Skulls   \n",
            "520453   538222               Copycat Jimmy Dean Breakfast Sausage   \n",
            "\n",
            "          AuthorId         AuthorName CookTime PrepTime         DatePublished  \\\n",
            "0             1533             Dancer    PT24H    PT45M  1999-08-09T21:46:00Z   \n",
            "2             1566     Stephen Little     PT5M    PT30M  1999-09-05T19:52:00Z   \n",
            "4             1538          Duckie067    PT30M    PT20M  1999-09-19T06:19:00Z   \n",
            "6             1596      Joan Edington     PT3M    PT35M  1999-09-17T04:47:00Z   \n",
            "11          174711   Queen Dragon Mom    PT30M    PT45M  1999-08-14T19:58:00Z   \n",
            "...            ...                ...      ...      ...                   ...   \n",
            "518048       33186           Food.com    PT15M    PT45M  2018-05-10T21:14:00Z   \n",
            "518943  2002170767   nutritionbalance    PT15M    PT15M  2018-08-06T21:03:00Z   \n",
            "519094  2001112113  Jonathan Melendez    PT40M    PT10M  2018-08-31T18:14:00Z   \n",
            "519181  2001112113  Jonathan Melendez    PT30M    PT25M  2018-09-12T15:53:00Z   \n",
            "520453  2001112113  Jonathan Melendez     PT8M     PT3H  2019-02-22T19:02:00Z   \n",
            "\n",
            "         RecipeCategory  AggregatedRating  ReviewCount  ... Calories  \\\n",
            "0       Frozen Desserts               4.5          4.0  ...    170.9   \n",
            "2             Beverages               4.5         10.0  ...    311.1   \n",
            "4             Vegetable               4.5         11.0  ...    103.6   \n",
            "6               Chicken               5.0         23.0  ...    895.5   \n",
            "11       Chicken Breast               5.0         21.0  ...    627.7   \n",
            "...                 ...               ...          ...  ...      ...   \n",
            "518048            Steak               4.0          4.0  ...    607.6   \n",
            "518943          Oatmeal               3.5          4.0  ...    428.6   \n",
            "519094           Potato               4.0          6.0  ...    541.6   \n",
            "519181          Chicken               4.0          5.0  ...    370.2   \n",
            "520453        Breakfast               1.5          5.0  ...    392.5   \n",
            "\n",
            "       FatContent SaturatedFatContent CholesterolContent SodiumContent  \\\n",
            "0             2.5                 1.3                  8          29.8   \n",
            "2             0.2                   0                  0           1.8   \n",
            "4             0.4                 0.1                  0         959.3   \n",
            "6            66.8                31.9              405.8         557.2   \n",
            "11           24.9                  13                203         848.9   \n",
            "...           ...                 ...                ...           ...   \n",
            "518048       30.2                12.3              198.0         833.9   \n",
            "518943        9.2                 3.3                9.3          35.3   \n",
            "519094       29.1                 9.1              152.8        1048.6   \n",
            "519181       29.3                12.1               79.3         572.3   \n",
            "520453       24.4                 9.0               81.8         945.4   \n",
            "\n",
            "       CarbohydrateContent FiberContent SugarContent ProteinContent  \\\n",
            "0                     37.1          3.6         30.2            3.2   \n",
            "2                     81.5          0.4         77.2            0.3   \n",
            "4                     25.1          4.8         17.7            4.3   \n",
            "6                     29.1          3.1            5           45.3   \n",
            "11                    13.7          0.6            2           57.9   \n",
            "...                    ...          ...          ...            ...   \n",
            "518048                52.3          4.1          8.1           30.1   \n",
            "518943                76.2         10.5         17.4           15.8   \n",
            "519094                33.4          4.1          3.6           37.4   \n",
            "519181                 7.8          1.9          3.5           19.3   \n",
            "520453                23.5          0.9         17.9           19.7   \n",
            "\n",
            "       RecipeServings  \n",
            "0                   4  \n",
            "2                   4  \n",
            "4                   4  \n",
            "6                   2  \n",
            "11                  6  \n",
            "...               ...  \n",
            "518048            4.0  \n",
            "518943            NaN  \n",
            "519094            4.0  \n",
            "519181            6.0  \n",
            "520453            NaN  \n",
            "\n",
            "[16198 rows x 21 columns]\n"
          ]
        }
      ]
    },
    {
      "cell_type": "code",
      "source": [
        "#Modifying column to store date in required format :- (Only year of publish)\n",
        "cols_filtered_data[\"DatePublished\"]=cols_filtered_data[\"DatePublished\"].str[0:4]"
      ],
      "metadata": {
        "id": "XbHBqazWntSo"
      },
      "execution_count": 32,
      "outputs": []
    },
    {
      "cell_type": "code",
      "source": [
        "\n",
        "#Replacing all blank entries in columns with default data\n",
        "for i in cols_filtered_data:\n",
        "    if i not in [\"RecipeId\", \"Name\", \"AuthorId\", \"AuthorName\",\"DatePublished\", \"RecipeCategory\",\"RecipeServings\"]:\n",
        "        cols_filtered_data[i].fillna(0, inplace=True)\n",
        "    elif i==\"RecipeServings\":\n",
        "        cols_filtered_data[i].fillna(-1, inplace=True)   #-1 code for serving parameter not applicable. Eg: items like sauce"
      ],
      "metadata": {
        "colab": {
          "base_uri": "https://localhost:8080/"
        },
        "id": "mfYPZ9LXnzIP",
        "outputId": "af9899d1-6ee3-4622-d2a9-f3864d73c3cc"
      },
      "execution_count": 33,
      "outputs": [
        {
          "output_type": "stream",
          "name": "stderr",
          "text": [
            "<ipython-input-33-ef685f07f131>:4: FutureWarning: A value is trying to be set on a copy of a DataFrame or Series through chained assignment using an inplace method.\n",
            "The behavior will change in pandas 3.0. This inplace method will never work because the intermediate object on which we are setting values always behaves as a copy.\n",
            "\n",
            "For example, when doing 'df[col].method(value, inplace=True)', try using 'df.method({col: value}, inplace=True)' or df[col] = df[col].method(value) instead, to perform the operation inplace on the original object.\n",
            "\n",
            "\n",
            "  cols_filtered_data[i].fillna(0, inplace=True)\n",
            "<ipython-input-33-ef685f07f131>:6: FutureWarning: A value is trying to be set on a copy of a DataFrame or Series through chained assignment using an inplace method.\n",
            "The behavior will change in pandas 3.0. This inplace method will never work because the intermediate object on which we are setting values always behaves as a copy.\n",
            "\n",
            "For example, when doing 'df[col].method(value, inplace=True)', try using 'df.method({col: value}, inplace=True)' or df[col] = df[col].method(value) instead, to perform the operation inplace on the original object.\n",
            "\n",
            "\n",
            "  cols_filtered_data[i].fillna(-1, inplace=True)   #-1 code for serving parameter not applicable. Eg: items like sauce\n"
          ]
        }
      ]
    },
    {
      "cell_type": "code",
      "source": [
        "def ingredient_format(strig):\n",
        "    if strig[0:2]!=\"c(\":\n",
        "        return \"c(\"+strig+\")\"\n",
        "    else:\n",
        "        return strig"
      ],
      "metadata": {
        "id": "cE57L6lPpcap"
      },
      "execution_count": 34,
      "outputs": []
    },
    {
      "cell_type": "code",
      "source": [
        "cols_filtered_data[\"RecipeIngredientParts\"]=cols_filtered_data[\"RecipeIngredientParts\"].apply(ingredient_format)"
      ],
      "metadata": {
        "id": "Hpf4IomAcRJN"
      },
      "execution_count": 35,
      "outputs": []
    },
    {
      "cell_type": "code",
      "source": [
        "def time_to_mins(strig):\n",
        "    if strig==0:\n",
        "        return 0\n",
        "    else:\n",
        "        a=0\n",
        "        b=0\n",
        "        if strig[1]==\"H\":\n",
        "            a=int(strig[0])\n",
        "        elif len(strig)>2 and strig[2]==\"H\":\n",
        "            a=int(strig[0:2])\n",
        "        if strig[-1]==\"M\":\n",
        "            if len(strig)>2 and strig[-3].isdigit():\n",
        "                b=int(strig[-3:-1])\n",
        "            else:\n",
        "                b=int(strig[-2])\n",
        "        return a*60+b"
      ],
      "metadata": {
        "id": "KDFWHh86ccAa"
      },
      "execution_count": 36,
      "outputs": []
    },
    {
      "cell_type": "code",
      "source": [
        "#Converting PrepTime and CookTime column entries to numerical format :-\n",
        "cols_filtered_data[\"PrepTime\"]=cols_filtered_data[\"PrepTime\"].str.lstrip(\"PT\")\n",
        "cols_filtered_data[\"CookTime\"]=cols_filtered_data[\"CookTime\"].str.lstrip(\"PT\")\n",
        "cols_filtered_data[\"PrepTime\"].fillna(0,inplace=True)\n",
        "cols_filtered_data[\"CookTime\"].fillna(0,inplace=True)\n",
        "cols_filtered_data[\"PrepTime\"].replace(\"0S\",0,inplace=True)\n",
        "cols_filtered_data[\"CookTime\"].replace(\"0S\",0,inplace=True)\n",
        "cols_filtered_data[\"PrepTime\"]=cols_filtered_data[\"PrepTime\"].apply(time_to_mins)\n",
        "cols_filtered_data[\"CookTime\"]=cols_filtered_data[\"CookTime\"].apply(time_to_mins)"
      ],
      "metadata": {
        "colab": {
          "base_uri": "https://localhost:8080/"
        },
        "id": "EsrSkK2AcfyO",
        "outputId": "7decc057-d82e-4491-c0b6-16de70459319"
      },
      "execution_count": 37,
      "outputs": [
        {
          "output_type": "stream",
          "name": "stderr",
          "text": [
            "<ipython-input-37-7a37ad33a951>:4: FutureWarning: A value is trying to be set on a copy of a DataFrame or Series through chained assignment using an inplace method.\n",
            "The behavior will change in pandas 3.0. This inplace method will never work because the intermediate object on which we are setting values always behaves as a copy.\n",
            "\n",
            "For example, when doing 'df[col].method(value, inplace=True)', try using 'df.method({col: value}, inplace=True)' or df[col] = df[col].method(value) instead, to perform the operation inplace on the original object.\n",
            "\n",
            "\n",
            "  cols_filtered_data[\"PrepTime\"].fillna(0,inplace=True)\n",
            "<ipython-input-37-7a37ad33a951>:5: FutureWarning: A value is trying to be set on a copy of a DataFrame or Series through chained assignment using an inplace method.\n",
            "The behavior will change in pandas 3.0. This inplace method will never work because the intermediate object on which we are setting values always behaves as a copy.\n",
            "\n",
            "For example, when doing 'df[col].method(value, inplace=True)', try using 'df.method({col: value}, inplace=True)' or df[col] = df[col].method(value) instead, to perform the operation inplace on the original object.\n",
            "\n",
            "\n",
            "  cols_filtered_data[\"CookTime\"].fillna(0,inplace=True)\n",
            "<ipython-input-37-7a37ad33a951>:6: FutureWarning: A value is trying to be set on a copy of a DataFrame or Series through chained assignment using an inplace method.\n",
            "The behavior will change in pandas 3.0. This inplace method will never work because the intermediate object on which we are setting values always behaves as a copy.\n",
            "\n",
            "For example, when doing 'df[col].method(value, inplace=True)', try using 'df.method({col: value}, inplace=True)' or df[col] = df[col].method(value) instead, to perform the operation inplace on the original object.\n",
            "\n",
            "\n",
            "  cols_filtered_data[\"PrepTime\"].replace(\"0S\",0,inplace=True)\n"
          ]
        }
      ]
    },
    {
      "cell_type": "code",
      "source": [
        "\n",
        "#Removing duplicate items :-\n",
        "final_recipes_dataset=cols_filtered_data.drop_duplicates(subset=[\"Name\"])"
      ],
      "metadata": {
        "id": "bWrkgkS0cjcJ"
      },
      "execution_count": 38,
      "outputs": []
    },
    {
      "cell_type": "code",
      "source": [
        "data=pd.read_csv(r\"reviews.csv\")\n",
        "\n",
        "#Filtering columns based on requirement :-\n",
        "recipes_dataset=data[[\"ReviewId\",\"RecipeId\", \"AuthorId\", \"AuthorName\", \"Rating\"]]\n",
        "recipes_dataset=recipes_dataset.rename(columns={\"AuthorId\":\"ReviewerID\", \"AuthorName\":\"ReviewerName\"})\n"
      ],
      "metadata": {
        "colab": {
          "base_uri": "https://localhost:8080/"
        },
        "id": "uJ5eSbJocnid",
        "outputId": "097d4733-9217-4f98-8247-8ba4cb0933de"
      },
      "execution_count": 39,
      "outputs": [
        {
          "output_type": "stream",
          "name": "stderr",
          "text": [
            "<ipython-input-39-40f61d61001b>:1: DtypeWarning: Columns (0,1) have mixed types. Specify dtype option on import or set low_memory=False.\n",
            "  data=pd.read_csv(r\"reviews.csv\")\n"
          ]
        }
      ]
    },
    {
      "cell_type": "code",
      "source": [
        "final_processed_dataset=pd.merge(final_recipes_dataset,recipes_dataset,on=\"RecipeId\")"
      ],
      "metadata": {
        "id": "6AjYVzM5gQq5"
      },
      "execution_count": 40,
      "outputs": []
    },
    {
      "cell_type": "code",
      "source": [
        "reviewer_review_counts=final_processed_dataset[\"ReviewerName\"].value_counts()\n",
        "final_processed_dataset=final_processed_dataset[final_processed_dataset[\"ReviewerName\"].isin(reviewer_review_counts[reviewer_review_counts>5].index)]"
      ],
      "metadata": {
        "id": "_JJ7NOUqgU4j"
      },
      "execution_count": 41,
      "outputs": []
    },
    {
      "cell_type": "code",
      "source": [
        "final_processed_dataset.to_csv(r\"Final_Processed_Dataset.csv\",index=False)"
      ],
      "metadata": {
        "id": "xqOEg-SOgZsN"
      },
      "execution_count": 42,
      "outputs": []
    }
  ]
}